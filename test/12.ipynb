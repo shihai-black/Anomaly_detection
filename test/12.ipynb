{
 "cells": [
  {
   "cell_type": "code",
   "execution_count": 1,
   "metadata": {
    "collapsed": true,
    "pycharm": {
     "is_executing": false
    }
   },
   "outputs": [],
   "source": [
    "import pandas as pd\n",
    "\n"
   ]
  },
  {
   "cell_type": "code",
   "execution_count": 2,
   "outputs": [],
   "source": [
    "df = pd.read_csv('../output/predict/f_anogan_result2.csv')"
   ],
   "metadata": {
    "collapsed": false,
    "pycharm": {
     "name": "#%%\n",
     "is_executing": false
    }
   }
  },
  {
   "cell_type": "code",
   "execution_count": 3,
   "outputs": [
    {
     "data": {
      "text/plain": "   label             photo_id              s_label  \\\n0      0  1290921532016558087  4115934201721184713   \n1      1  1291001241798705163  3515966336388174550   \n2      2  1290896954267533325  3615965381717356232   \n3      3  1290821739600674824  4215924452947895088   \n4      4  1290930421659336707   815909792852954509   \n\n                                         fzx_feature  sample_type       gps_x  \\\n0  gPsbBbL1sgbSCN350/2eBk7+TgZoCtz7F/m2++gFqP0d/w...            1  121.144604   \n1  hAcoBncHEvPmAV/+3gMQ+u4C6QU//CwAxv/e/TQAF/kT/w...            1  121.156285   \n2  tvwuA0D/u/45/2MJowhi/gAHYgQgAq7zwgS0AtMEi/uzBe...            0  121.152065   \n3  xQgF+f/4gQI69pf2Rfq5AQUGDAtQArL90wHQ/g7/DQJ8A9...            1  121.163615   \n4  twBP/vYB6gdv+LH+YvO2Ae8Blf0KAZf8qPpO/QX04AAN9d...            1  121.283879   \n\n       gps_y                 cap_time    error_mean  \\\n0  30.048146  2020-08-05 16:04:06.582   9279.454092   \n1  30.077008  2020-08-05 21:20:52.412  13726.371165   \n2  30.051941  2020-08-05 14:26:24.910  18052.641809   \n3  30.099937  2020-08-05 09:27:36.090  22910.414690   \n4  30.035186  2020-08-05 16:39:25.239  11692.353124   \n\n                                          error_list  \n0  [[7516.89111328125, 7515.48828125, 7514.927246...  \n1  [[2963.087646484375, 2964.90478515625, 2962.96...  \n2  [[17674.177734375, 17674.34765625, 17674.86132...  \n3  [[6486.52392578125, 6488.02880859375, 6488.021...  \n4  [[24550.697265625, 24549.03515625, 24548.45507...  ",
      "text/html": "<div>\n<style scoped>\n    .dataframe tbody tr th:only-of-type {\n        vertical-align: middle;\n    }\n\n    .dataframe tbody tr th {\n        vertical-align: top;\n    }\n\n    .dataframe thead th {\n        text-align: right;\n    }\n</style>\n<table border=\"1\" class=\"dataframe\">\n  <thead>\n    <tr style=\"text-align: right;\">\n      <th></th>\n      <th>label</th>\n      <th>photo_id</th>\n      <th>s_label</th>\n      <th>fzx_feature</th>\n      <th>sample_type</th>\n      <th>gps_x</th>\n      <th>gps_y</th>\n      <th>cap_time</th>\n      <th>error_mean</th>\n      <th>error_list</th>\n    </tr>\n  </thead>\n  <tbody>\n    <tr>\n      <td>0</td>\n      <td>0</td>\n      <td>1290921532016558087</td>\n      <td>4115934201721184713</td>\n      <td>gPsbBbL1sgbSCN350/2eBk7+TgZoCtz7F/m2++gFqP0d/w...</td>\n      <td>1</td>\n      <td>121.144604</td>\n      <td>30.048146</td>\n      <td>2020-08-05 16:04:06.582</td>\n      <td>9279.454092</td>\n      <td>[[7516.89111328125, 7515.48828125, 7514.927246...</td>\n    </tr>\n    <tr>\n      <td>1</td>\n      <td>1</td>\n      <td>1291001241798705163</td>\n      <td>3515966336388174550</td>\n      <td>hAcoBncHEvPmAV/+3gMQ+u4C6QU//CwAxv/e/TQAF/kT/w...</td>\n      <td>1</td>\n      <td>121.156285</td>\n      <td>30.077008</td>\n      <td>2020-08-05 21:20:52.412</td>\n      <td>13726.371165</td>\n      <td>[[2963.087646484375, 2964.90478515625, 2962.96...</td>\n    </tr>\n    <tr>\n      <td>2</td>\n      <td>2</td>\n      <td>1290896954267533325</td>\n      <td>3615965381717356232</td>\n      <td>tvwuA0D/u/45/2MJowhi/gAHYgQgAq7zwgS0AtMEi/uzBe...</td>\n      <td>0</td>\n      <td>121.152065</td>\n      <td>30.051941</td>\n      <td>2020-08-05 14:26:24.910</td>\n      <td>18052.641809</td>\n      <td>[[17674.177734375, 17674.34765625, 17674.86132...</td>\n    </tr>\n    <tr>\n      <td>3</td>\n      <td>3</td>\n      <td>1290821739600674824</td>\n      <td>4215924452947895088</td>\n      <td>xQgF+f/4gQI69pf2Rfq5AQUGDAtQArL90wHQ/g7/DQJ8A9...</td>\n      <td>1</td>\n      <td>121.163615</td>\n      <td>30.099937</td>\n      <td>2020-08-05 09:27:36.090</td>\n      <td>22910.414690</td>\n      <td>[[6486.52392578125, 6488.02880859375, 6488.021...</td>\n    </tr>\n    <tr>\n      <td>4</td>\n      <td>4</td>\n      <td>1290930421659336707</td>\n      <td>815909792852954509</td>\n      <td>twBP/vYB6gdv+LH+YvO2Ae8Blf0KAZf8qPpO/QX04AAN9d...</td>\n      <td>1</td>\n      <td>121.283879</td>\n      <td>30.035186</td>\n      <td>2020-08-05 16:39:25.239</td>\n      <td>11692.353124</td>\n      <td>[[24550.697265625, 24549.03515625, 24548.45507...</td>\n    </tr>\n  </tbody>\n</table>\n</div>"
     },
     "metadata": {},
     "output_type": "execute_result",
     "execution_count": 3
    }
   ],
   "source": [
    "df.head()"
   ],
   "metadata": {
    "collapsed": false,
    "pycharm": {
     "name": "#%%\n",
     "is_executing": false
    }
   }
  },
  {
   "cell_type": "code",
   "execution_count": 6,
   "outputs": [
    {
     "data": {
      "text/plain": "      label             photo_id              s_label  \\\n708     708  1290964025911279617  4115966247821115188   \n501     501  1290894761426681857  4115966247821115188   \n1209   1209  1290827966078517251  4115931617961705904   \n1275   1275  1290963520527007751  3615932576423488383   \n476     476  1291001397315108866  3415931701769503363   \n...     ...                  ...                  ...   \n652     652  1290861904167698437  4115966045505461853   \n848     848  1290943531086512128   615912650869389213   \n367     367  1290848355219406857  3715913718698284669   \n160     160  1291039049447899141  3715913718698284669   \n786     786  1290982634846945287  3415909989091587584   \n\n                                            fzx_feature  sample_type  \\\n708   CgMTBlMFmAGGAf8AGgWu80n9KwcaAw4CZAstAOD40P+WAN...            1   \n501   4ARNBjgD1gPiAZP/MQOU88j+ugdL/fv+DQD2+873AAL+BF...            0   \n1209  6gIvAaf+yfvo9A38aQR3/039afnb90P+SwVXCmECgAUN/E...            0   \n1275  cwaJA6QByvjO/eQBvvbx/Kz6MgrgA2P/1AQf/3P58A6L+X...            1   \n476   ufvRAd/9lfsbAWsCaf4G+L/9SgLH/K/zSAX8BOcCFv+sBJ...            1   \n...                                                 ...          ...   \n652   8gNpBdsANAZL9P0GZfZg+zz9ufUBAe0BN/9cAGD7QQI48t...            1   \n848   MQxmAyUCvggSBB/8qQeaCb4BIP8XBQQDvABx/PMGC/unBl...            0   \n367   eAPk9S79rgDc9iwGZApBBKUGVAad9pz9QQOJAyEOHAJO+3...            1   \n160   mPxq9VABaP1M/WX9/gs7BRcE2QL1/B8C1v1+BQoHbPwZ+U...            0   \n786   qgbHAAD2PwOm9Rv/9goc/BYFg//sAJT5Cf9lBc8Ddf7DBp...            0   \n\n           gps_x      gps_y                 cap_time    error_mean  \\\n708   121.152725  30.045691  2020-08-05 18:52:59.126     57.408662   \n501   121.127401  30.030468  2020-08-05 14:17:43.685     57.408662   \n1209  121.186281  30.065509  2020-08-05 09:51:58.096    459.601473   \n1275  121.161654  30.033591  2020-08-05 18:51:02.246    744.970975   \n476   121.157621  30.047477  2020-08-05 21:21:30.358    910.952132   \n...          ...        ...                      ...           ...   \n652   121.156253  30.076938  2020-08-05 12:07:08.279  41452.549396   \n848   121.155748  30.075866  2020-08-05 17:31:27.938  41906.544172   \n367   121.181795  30.065217  2020-08-05 11:13:21.085  42435.075201   \n160   121.178611  30.061554  2020-08-05 23:50:54.951  48223.029147   \n786   121.047917  30.165615  2020-08-05 20:06:55.529  49591.814651   \n\n                                             error_list  \n708   [[56.956153869628906, 57.885398864746094, 57.9...  \n501   [[56.956153869628906, 57.885398864746094, 57.9...  \n1209  [[896.27490234375, 896.65283203125, 896.280151...  \n1275  [[1080.2393798828125, 1080.6922607421875, 1080...  \n476   [[14.305368423461914, 14.953890800476074, 14.2...  \n...                                                 ...  \n652   [[68163.546875, 68165.1484375, 68164.046875, 6...  \n848   [[8954.5517578125, 8954.908203125, 8954.448242...  \n367   [[10947.0263671875, 10946.625, 10946.638671875...  \n160   [[19244.263671875, 19245.033203125, 19244.4062...  \n786   [[46376.85546875, 46376.97265625, 46376.964843...  \n\n[1309 rows x 10 columns]",
      "text/html": "<div>\n<style scoped>\n    .dataframe tbody tr th:only-of-type {\n        vertical-align: middle;\n    }\n\n    .dataframe tbody tr th {\n        vertical-align: top;\n    }\n\n    .dataframe thead th {\n        text-align: right;\n    }\n</style>\n<table border=\"1\" class=\"dataframe\">\n  <thead>\n    <tr style=\"text-align: right;\">\n      <th></th>\n      <th>label</th>\n      <th>photo_id</th>\n      <th>s_label</th>\n      <th>fzx_feature</th>\n      <th>sample_type</th>\n      <th>gps_x</th>\n      <th>gps_y</th>\n      <th>cap_time</th>\n      <th>error_mean</th>\n      <th>error_list</th>\n    </tr>\n  </thead>\n  <tbody>\n    <tr>\n      <td>708</td>\n      <td>708</td>\n      <td>1290964025911279617</td>\n      <td>4115966247821115188</td>\n      <td>CgMTBlMFmAGGAf8AGgWu80n9KwcaAw4CZAstAOD40P+WAN...</td>\n      <td>1</td>\n      <td>121.152725</td>\n      <td>30.045691</td>\n      <td>2020-08-05 18:52:59.126</td>\n      <td>57.408662</td>\n      <td>[[56.956153869628906, 57.885398864746094, 57.9...</td>\n    </tr>\n    <tr>\n      <td>501</td>\n      <td>501</td>\n      <td>1290894761426681857</td>\n      <td>4115966247821115188</td>\n      <td>4ARNBjgD1gPiAZP/MQOU88j+ugdL/fv+DQD2+873AAL+BF...</td>\n      <td>0</td>\n      <td>121.127401</td>\n      <td>30.030468</td>\n      <td>2020-08-05 14:17:43.685</td>\n      <td>57.408662</td>\n      <td>[[56.956153869628906, 57.885398864746094, 57.9...</td>\n    </tr>\n    <tr>\n      <td>1209</td>\n      <td>1209</td>\n      <td>1290827966078517251</td>\n      <td>4115931617961705904</td>\n      <td>6gIvAaf+yfvo9A38aQR3/039afnb90P+SwVXCmECgAUN/E...</td>\n      <td>0</td>\n      <td>121.186281</td>\n      <td>30.065509</td>\n      <td>2020-08-05 09:51:58.096</td>\n      <td>459.601473</td>\n      <td>[[896.27490234375, 896.65283203125, 896.280151...</td>\n    </tr>\n    <tr>\n      <td>1275</td>\n      <td>1275</td>\n      <td>1290963520527007751</td>\n      <td>3615932576423488383</td>\n      <td>cwaJA6QByvjO/eQBvvbx/Kz6MgrgA2P/1AQf/3P58A6L+X...</td>\n      <td>1</td>\n      <td>121.161654</td>\n      <td>30.033591</td>\n      <td>2020-08-05 18:51:02.246</td>\n      <td>744.970975</td>\n      <td>[[1080.2393798828125, 1080.6922607421875, 1080...</td>\n    </tr>\n    <tr>\n      <td>476</td>\n      <td>476</td>\n      <td>1291001397315108866</td>\n      <td>3415931701769503363</td>\n      <td>ufvRAd/9lfsbAWsCaf4G+L/9SgLH/K/zSAX8BOcCFv+sBJ...</td>\n      <td>1</td>\n      <td>121.157621</td>\n      <td>30.047477</td>\n      <td>2020-08-05 21:21:30.358</td>\n      <td>910.952132</td>\n      <td>[[14.305368423461914, 14.953890800476074, 14.2...</td>\n    </tr>\n    <tr>\n      <td>...</td>\n      <td>...</td>\n      <td>...</td>\n      <td>...</td>\n      <td>...</td>\n      <td>...</td>\n      <td>...</td>\n      <td>...</td>\n      <td>...</td>\n      <td>...</td>\n      <td>...</td>\n    </tr>\n    <tr>\n      <td>652</td>\n      <td>652</td>\n      <td>1290861904167698437</td>\n      <td>4115966045505461853</td>\n      <td>8gNpBdsANAZL9P0GZfZg+zz9ufUBAe0BN/9cAGD7QQI48t...</td>\n      <td>1</td>\n      <td>121.156253</td>\n      <td>30.076938</td>\n      <td>2020-08-05 12:07:08.279</td>\n      <td>41452.549396</td>\n      <td>[[68163.546875, 68165.1484375, 68164.046875, 6...</td>\n    </tr>\n    <tr>\n      <td>848</td>\n      <td>848</td>\n      <td>1290943531086512128</td>\n      <td>615912650869389213</td>\n      <td>MQxmAyUCvggSBB/8qQeaCb4BIP8XBQQDvABx/PMGC/unBl...</td>\n      <td>0</td>\n      <td>121.155748</td>\n      <td>30.075866</td>\n      <td>2020-08-05 17:31:27.938</td>\n      <td>41906.544172</td>\n      <td>[[8954.5517578125, 8954.908203125, 8954.448242...</td>\n    </tr>\n    <tr>\n      <td>367</td>\n      <td>367</td>\n      <td>1290848355219406857</td>\n      <td>3715913718698284669</td>\n      <td>eAPk9S79rgDc9iwGZApBBKUGVAad9pz9QQOJAyEOHAJO+3...</td>\n      <td>1</td>\n      <td>121.181795</td>\n      <td>30.065217</td>\n      <td>2020-08-05 11:13:21.085</td>\n      <td>42435.075201</td>\n      <td>[[10947.0263671875, 10946.625, 10946.638671875...</td>\n    </tr>\n    <tr>\n      <td>160</td>\n      <td>160</td>\n      <td>1291039049447899141</td>\n      <td>3715913718698284669</td>\n      <td>mPxq9VABaP1M/WX9/gs7BRcE2QL1/B8C1v1+BQoHbPwZ+U...</td>\n      <td>0</td>\n      <td>121.178611</td>\n      <td>30.061554</td>\n      <td>2020-08-05 23:50:54.951</td>\n      <td>48223.029147</td>\n      <td>[[19244.263671875, 19245.033203125, 19244.4062...</td>\n    </tr>\n    <tr>\n      <td>786</td>\n      <td>786</td>\n      <td>1290982634846945287</td>\n      <td>3415909989091587584</td>\n      <td>qgbHAAD2PwOm9Rv/9goc/BYFg//sAJT5Cf9lBc8Ddf7DBp...</td>\n      <td>0</td>\n      <td>121.047917</td>\n      <td>30.165615</td>\n      <td>2020-08-05 20:06:55.529</td>\n      <td>49591.814651</td>\n      <td>[[46376.85546875, 46376.97265625, 46376.964843...</td>\n    </tr>\n  </tbody>\n</table>\n<p>1309 rows × 10 columns</p>\n</div>"
     },
     "metadata": {},
     "output_type": "execute_result",
     "execution_count": 6
    }
   ],
   "source": [
    "df.sort_values('error_mean')\n"
   ],
   "metadata": {
    "collapsed": false,
    "pycharm": {
     "name": "#%%\n",
     "is_executing": false
    }
   }
  },
  {
   "cell_type": "code",
   "execution_count": 7,
   "outputs": [
    {
     "name": "stdout",
     "text": [
      "<class 'pandas.core.frame.DataFrame'>\n",
      "RangeIndex: 1309 entries, 0 to 1308\n",
      "Data columns (total 10 columns):\n",
      "label          1309 non-null int64\n",
      "photo_id       1309 non-null int64\n",
      "s_label        1309 non-null int64\n",
      "fzx_feature    1309 non-null object\n",
      "sample_type    1309 non-null int64\n",
      "gps_x          1309 non-null float64\n",
      "gps_y          1309 non-null float64\n",
      "cap_time       1309 non-null object\n",
      "error_mean     1309 non-null float64\n",
      "error_list     1309 non-null object\n",
      "dtypes: float64(3), int64(4), object(3)\n",
      "memory usage: 102.4+ KB\n"
     ],
     "output_type": "stream"
    }
   ],
   "source": [
    "df.info()\n",
    "\n"
   ],
   "metadata": {
    "collapsed": false,
    "pycharm": {
     "name": "#%%\n",
     "is_executing": false
    }
   }
  },
  {
   "cell_type": "code",
   "execution_count": 9,
   "outputs": [
    {
     "data": {
      "text/plain": "      sample_type    error_mean\n501             0     57.408662\n1209            0    459.601473\n180             0   1214.822778\n528             0   1346.275034\n673             0   1610.730912\n...           ...           ...\n371             0  37993.070343\n868             0  41089.939921\n848             0  41906.544172\n160             0  48223.029147\n786             0  49591.814651\n\n[308 rows x 2 columns]",
      "text/html": "<div>\n<style scoped>\n    .dataframe tbody tr th:only-of-type {\n        vertical-align: middle;\n    }\n\n    .dataframe tbody tr th {\n        vertical-align: top;\n    }\n\n    .dataframe thead th {\n        text-align: right;\n    }\n</style>\n<table border=\"1\" class=\"dataframe\">\n  <thead>\n    <tr style=\"text-align: right;\">\n      <th></th>\n      <th>sample_type</th>\n      <th>error_mean</th>\n    </tr>\n  </thead>\n  <tbody>\n    <tr>\n      <td>501</td>\n      <td>0</td>\n      <td>57.408662</td>\n    </tr>\n    <tr>\n      <td>1209</td>\n      <td>0</td>\n      <td>459.601473</td>\n    </tr>\n    <tr>\n      <td>180</td>\n      <td>0</td>\n      <td>1214.822778</td>\n    </tr>\n    <tr>\n      <td>528</td>\n      <td>0</td>\n      <td>1346.275034</td>\n    </tr>\n    <tr>\n      <td>673</td>\n      <td>0</td>\n      <td>1610.730912</td>\n    </tr>\n    <tr>\n      <td>...</td>\n      <td>...</td>\n      <td>...</td>\n    </tr>\n    <tr>\n      <td>371</td>\n      <td>0</td>\n      <td>37993.070343</td>\n    </tr>\n    <tr>\n      <td>868</td>\n      <td>0</td>\n      <td>41089.939921</td>\n    </tr>\n    <tr>\n      <td>848</td>\n      <td>0</td>\n      <td>41906.544172</td>\n    </tr>\n    <tr>\n      <td>160</td>\n      <td>0</td>\n      <td>48223.029147</td>\n    </tr>\n    <tr>\n      <td>786</td>\n      <td>0</td>\n      <td>49591.814651</td>\n    </tr>\n  </tbody>\n</table>\n<p>308 rows × 2 columns</p>\n</div>"
     },
     "metadata": {},
     "output_type": "execute_result",
     "execution_count": 9
    }
   ],
   "source": [
    "df[df['sample_type']==0][['sample_type','error_mean']].sort_values('error_mean')\n"
   ],
   "metadata": {
    "collapsed": false,
    "pycharm": {
     "name": "#%%\n",
     "is_executing": false
    }
   }
  },
  {
   "cell_type": "code",
   "execution_count": 10,
   "outputs": [
    {
     "data": {
      "text/plain": "      sample_type    error_mean\n708             1     57.408662\n1275            1    744.970975\n476             1    910.952132\n428             1   1739.477307\n1227            1   2081.474289\n...           ...           ...\n699             1  37813.163629\n956             1  38298.697121\n664             1  38876.434385\n652             1  41452.549396\n367             1  42435.075201\n\n[1001 rows x 2 columns]",
      "text/html": "<div>\n<style scoped>\n    .dataframe tbody tr th:only-of-type {\n        vertical-align: middle;\n    }\n\n    .dataframe tbody tr th {\n        vertical-align: top;\n    }\n\n    .dataframe thead th {\n        text-align: right;\n    }\n</style>\n<table border=\"1\" class=\"dataframe\">\n  <thead>\n    <tr style=\"text-align: right;\">\n      <th></th>\n      <th>sample_type</th>\n      <th>error_mean</th>\n    </tr>\n  </thead>\n  <tbody>\n    <tr>\n      <td>708</td>\n      <td>1</td>\n      <td>57.408662</td>\n    </tr>\n    <tr>\n      <td>1275</td>\n      <td>1</td>\n      <td>744.970975</td>\n    </tr>\n    <tr>\n      <td>476</td>\n      <td>1</td>\n      <td>910.952132</td>\n    </tr>\n    <tr>\n      <td>428</td>\n      <td>1</td>\n      <td>1739.477307</td>\n    </tr>\n    <tr>\n      <td>1227</td>\n      <td>1</td>\n      <td>2081.474289</td>\n    </tr>\n    <tr>\n      <td>...</td>\n      <td>...</td>\n      <td>...</td>\n    </tr>\n    <tr>\n      <td>699</td>\n      <td>1</td>\n      <td>37813.163629</td>\n    </tr>\n    <tr>\n      <td>956</td>\n      <td>1</td>\n      <td>38298.697121</td>\n    </tr>\n    <tr>\n      <td>664</td>\n      <td>1</td>\n      <td>38876.434385</td>\n    </tr>\n    <tr>\n      <td>652</td>\n      <td>1</td>\n      <td>41452.549396</td>\n    </tr>\n    <tr>\n      <td>367</td>\n      <td>1</td>\n      <td>42435.075201</td>\n    </tr>\n  </tbody>\n</table>\n<p>1001 rows × 2 columns</p>\n</div>"
     },
     "metadata": {},
     "output_type": "execute_result",
     "execution_count": 10
    }
   ],
   "source": [
    "df[df['sample_type']==1][['sample_type','error_mean']].sort_values('error_mean')\n",
    "\n",
    "\n"
   ],
   "metadata": {
    "collapsed": false,
    "pycharm": {
     "name": "#%%\n",
     "is_executing": false
    }
   }
  },
  {
   "cell_type": "code",
   "execution_count": null,
   "outputs": [],
   "source": [
    "\n"
   ],
   "metadata": {
    "collapsed": false,
    "pycharm": {
     "name": "#%%\n"
    }
   }
  }
 ],
 "metadata": {
  "kernelspec": {
   "display_name": "Python 3",
   "language": "python",
   "name": "python3"
  },
  "language_info": {
   "codemirror_mode": {
    "name": "ipython",
    "version": 2
   },
   "file_extension": ".py",
   "mimetype": "text/x-python",
   "name": "python",
   "nbconvert_exporter": "python",
   "pygments_lexer": "ipython2",
   "version": "2.7.6"
  },
  "pycharm": {
   "stem_cell": {
    "cell_type": "raw",
    "source": [],
    "metadata": {
     "collapsed": false
    }
   }
  }
 },
 "nbformat": 4,
 "nbformat_minor": 0
}